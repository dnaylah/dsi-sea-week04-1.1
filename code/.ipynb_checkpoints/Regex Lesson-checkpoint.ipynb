{
 "cells": [
  {
   "cell_type": "markdown",
   "metadata": {
    "button": false,
    "deletable": true,
    "new_sheet": false,
    "run_control": {
     "read_only": false
    }
   },
   "source": [
    "<img src=\"http://static.tvtropes.org/pmwiki/pub/images/acslatersitting_1267.jpg\" alt=\"Title\"/>"
   ]
  },
  {
   "cell_type": "markdown",
   "metadata": {
    "button": false,
    "deletable": true,
    "new_sheet": false,
    "run_control": {
     "read_only": false
    }
   },
   "source": [
    "# Hey there fellow student. Come closer. I want to jive with you for a second."
   ]
  },
  {
   "cell_type": "code",
   "execution_count": 1,
   "metadata": {
    "button": false,
    "collapsed": true,
    "deletable": true,
    "new_sheet": false,
    "run_control": {
     "read_only": false
    }
   },
   "outputs": [],
   "source": [
    "# Take a close look at this string!\n",
    "\n",
    "stringy = \"<div> Address: 1234 Fake Lane, FakeFake Faketown New Jersey, 90048 </div>\"\n",
    "\n",
    "# Wouldn't it be nice to easily find information in strings like this?"
   ]
  },
  {
   "cell_type": "markdown",
   "metadata": {
    "button": false,
    "deletable": true,
    "new_sheet": false,
    "run_control": {
     "read_only": false
    }
   },
   "source": [
    "## Well now you can! With regular expressions, you can quickly search through large amounts of data with a simple set of rules! Let's dig in! "
   ]
  },
  {
   "cell_type": "markdown",
   "metadata": {
    "button": false,
    "deletable": true,
    "new_sheet": false,
    "run_control": {
     "read_only": false
    }
   },
   "source": [
    "<img src=\"http://37.media.tumblr.com/tumblr_m8tx99Cu2x1rdutw3o1_500.gif\" alt=\"Title\" style=\"width: 250px\"/>"
   ]
  },
  {
   "cell_type": "code",
   "execution_count": 3,
   "metadata": {
    "button": false,
    "collapsed": false,
    "deletable": true,
    "new_sheet": false,
    "run_control": {
     "read_only": false
    }
   },
   "outputs": [
    {
     "name": "stdout",
     "output_type": "stream",
     "text": [
      "<\n"
     ]
    }
   ],
   "source": [
    "import re\n",
    "\n",
    "# The . matches any character except a newline (\\n)\n",
    "# one character per dot\n",
    "m = re.search('.', stringy)\n",
    "\n",
    "# m.group() contains an array of all of our matches. I wonder what this does...\n",
    "print m.group()"
   ]
  },
  {
   "cell_type": "code",
   "execution_count": 4,
   "metadata": {
    "button": false,
    "collapsed": false,
    "deletable": true,
    "new_sheet": false,
    "run_control": {
     "read_only": false
    }
   },
   "outputs": [
    {
     "name": "stdout",
     "output_type": "stream",
     "text": [
      "<di\n"
     ]
    }
   ],
   "source": [
    "# The ^ matches the start of a string\n",
    "m = re.search('^...', stringy)\n",
    "\n",
    "# Try to guess. What will this print?\n",
    "print m.group()"
   ]
  },
  {
   "cell_type": "code",
   "execution_count": 5,
   "metadata": {
    "button": false,
    "collapsed": false,
    "deletable": true,
    "new_sheet": false,
    "run_control": {
     "read_only": false
    }
   },
   "outputs": [
    {
     "name": "stdout",
     "output_type": "stream",
     "text": [
      "iv>\n"
     ]
    }
   ],
   "source": [
    "# Gnarly dude! You've got this down! Let's add some more!\n",
    "# The $ matches the end of a string\n",
    "m = re.search('...$', stringy)\n",
    "\n",
    "# Try to guess. What will this print?\n",
    "print m.group()"
   ]
  },
  {
   "cell_type": "code",
   "execution_count": 10,
   "metadata": {
    "button": false,
    "collapsed": false,
    "deletable": true,
    "new_sheet": false,
    "run_control": {
     "read_only": false
    }
   },
   "outputs": [
    {
     "name": "stdout",
     "output_type": "stream",
     "text": [
      "<div> Address: 1234 Fake Lane, FakeFake Faketown New Jersey, 90048 </div>\n"
     ]
    }
   ],
   "source": [
    "# The * matches 0 - many repetitions of a string\n",
    "# since there is no x found, it is going to return the whole string\n",
    "# therefore it finds the whole string, looks for x, doesnt find it, and returns the string\n",
    "m = re.search('<div>.*x*', stringy)\n",
    "\n",
    "# Try to guess. What will this print?\n",
    "print m.group()"
   ]
  },
  {
   "cell_type": "code",
   "execution_count": 11,
   "metadata": {
    "button": false,
    "collapsed": false,
    "deletable": true,
    "new_sheet": false,
    "run_control": {
     "read_only": false
    }
   },
   "outputs": [
    {
     "name": "stdout",
     "output_type": "stream",
     "text": [
      "<div> Address: 1234 Fake Lane, FakeFake Fake\n"
     ]
    }
   ],
   "source": [
    "# The + matches 1 - many repetitions of a string\n",
    "# the last time it sees the string'Fake' its going to return up until the last found instance\n",
    "m = re.search('<div>.*Fake+', stringy)\n",
    "\n",
    "# Try to guess. What will this print?\n",
    "print m.group()"
   ]
  },
  {
   "cell_type": "code",
   "execution_count": 14,
   "metadata": {
    "button": false,
    "collapsed": false,
    "deletable": true,
    "new_sheet": false,
    "run_control": {
     "read_only": false
    }
   },
   "outputs": [
    {
     "name": "stdout",
     "output_type": "stream",
     "text": [
      "<div> Address: 1234 Fake Lane, FakeFake Fake\n",
      "<div> Address: 1234 Fake\n"
     ]
    }
   ],
   "source": [
    "# The ? matches 0 - 1 repetitions of a string\n",
    "m = re.search('.*Fake?', stringy)\n",
    "\n",
    "\n",
    "# Try to guess. What will this print?\n",
    "print m.group()\n",
    "\n",
    "# If you combine it with the . and * rules, you can return the first instance of a pattern match\n",
    "m = re.search('.*?Fake', stringy)\n",
    "\n",
    "# Try to guess. What will this print?\n",
    "print m.group()"
   ]
  },
  {
   "cell_type": "code",
   "execution_count": 19,
   "metadata": {
    "button": false,
    "collapsed": false,
    "deletable": true,
    "new_sheet": false,
    "run_control": {
     "read_only": false
    }
   },
   "outputs": [
    {
     "name": "stdout",
     "output_type": "stream",
     "text": [
      "Fake Lane, FakeFake Faketown New Jersey, 90048 </div>\n"
     ]
    }
   ],
   "source": [
    "# Use () to find whole words, phrases, or regexs\n",
    "m = re.search('(Fake)? Lane.*', stringy)\n",
    "\n",
    "# Try to guess. What will this print?\n",
    "print m.group()"
   ]
  },
  {
   "cell_type": "code",
   "execution_count": 20,
   "metadata": {
    "button": false,
    "collapsed": false,
    "deletable": true,
    "new_sheet": false,
    "run_control": {
     "read_only": false
    }
   },
   "outputs": [
    {
     "name": "stdout",
     "output_type": "stream",
     "text": [
      "<div> Address: 1234 Fake Lane, FakeFake\n"
     ]
    }
   ],
   "source": [
    "# This regex: Fake{2,3} matches 2 to 3 copies of the preceding string\n",
    "m = re.search('.*(Fake){2,3}', stringy)\n",
    "\n",
    "# Try to guess. What will this print?\n",
    "print m.group()"
   ]
  },
  {
   "cell_type": "code",
   "execution_count": 22,
   "metadata": {
    "button": false,
    "collapsed": false,
    "deletable": true,
    "new_sheet": false,
    "run_control": {
     "read_only": false
    }
   },
   "outputs": [
    {
     "name": "stdout",
     "output_type": "stream",
     "text": [
      "<div> Address: 1234 Fake Lane, FakeFa\n"
     ]
    }
   ],
   "source": [
    "# Use [] to indicate a set of characters\n",
    "m = re.search('<div>.*?FakeF[a-z]?', stringy)\n",
    "\n",
    "# Try to guess. What will this print?\n",
    "print m.group()"
   ]
  },
  {
   "cell_type": "code",
   "execution_count": 24,
   "metadata": {
    "button": false,
    "collapsed": false,
    "deletable": true,
    "new_sheet": false,
    "run_control": {
     "read_only": false
    }
   },
   "outputs": [
    {
     "name": "stdout",
     "output_type": "stream",
     "text": [
      "FakeF\n",
      "<div> Address: 1234 Fake Lane, FakeFake Faket\n"
     ]
    }
   ],
   "source": [
    "# Use | to denote \"or\" expressions\n",
    "m = re.search('Fake[F|t]', stringy)\n",
    "\n",
    "# Try to guess. What will this print?\n",
    "print m.group()\n",
    "\n",
    "m = re.search('<div>.*Fake[F|t]?', stringy)\n",
    "\n",
    "# Try to guess. What will this print?\n",
    "print m.group()"
   ]
  },
  {
   "cell_type": "code",
   "execution_count": 34,
   "metadata": {
    "button": false,
    "collapsed": false,
    "deletable": true,
    "new_sheet": false,
    "run_control": {
     "read_only": false
    }
   },
   "outputs": [
    {
     "name": "stdout",
     "output_type": "stream",
     "text": [
      "4 Fake L\n"
     ]
    }
   ],
   "source": [
    "# \\b: matches empty string at beginning or end of word\n",
    "m = re.search('..\\b*Fake\\b*..', stringy)\n",
    "\n",
    "# Try to guess. What will this print?\n",
    "print m.group()"
   ]
  },
  {
   "cell_type": "code",
   "execution_count": 35,
   "metadata": {
    "button": false,
    "collapsed": false,
    "deletable": true,
    "new_sheet": false,
    "run_control": {
     "read_only": false
    }
   },
   "outputs": [
    {
     "name": "stdout",
     "output_type": "stream",
     "text": [
      "1234\n"
     ]
    }
   ],
   "source": [
    "# \\d: matches a digit character\n",
    "m = re.search('\\d+', stringy)\n",
    "\n",
    "# Try to guess. What will this print?\n",
    "print m.group()"
   ]
  },
  {
   "cell_type": "code",
   "execution_count": 36,
   "metadata": {
    "button": false,
    "collapsed": false,
    "deletable": true,
    "new_sheet": false,
    "run_control": {
     "read_only": false
    }
   },
   "outputs": [
    {
     "name": "stdout",
     "output_type": "stream",
     "text": [
      "<div> Address: \n"
     ]
    }
   ],
   "source": [
    "# \\d: matches a non-digit character\n",
    "m = re.search('\\D+', stringy)\n",
    "\n",
    "# Try to guess. What will this print?\n",
    "print m.group()"
   ]
  },
  {
   "cell_type": "code",
   "execution_count": 37,
   "metadata": {
    "button": false,
    "collapsed": false,
    "deletable": true,
    "new_sheet": false,
    "run_control": {
     "read_only": false
    }
   },
   "outputs": [
    {
     "name": "stdout",
     "output_type": "stream",
     "text": [
      "v> Ad\n"
     ]
    }
   ],
   "source": [
    "# \\s: matches any whitespace character\n",
    "m = re.search('..\\s+..', stringy)\n",
    "\n",
    "\n",
    "# Try to guess. What will this print?\n",
    "print m.group()"
   ]
  },
  {
   "cell_type": "code",
   "execution_count": 38,
   "metadata": {
    "button": false,
    "collapsed": false,
    "deletable": true,
    "new_sheet": false,
    "run_control": {
     "read_only": false
    }
   },
   "outputs": [
    {
     "name": "stdout",
     "output_type": "stream",
     "text": [
      "<div>\n"
     ]
    }
   ],
   "source": [
    "# \\S: matches any non-whitespace character\n",
    "m = re.search('\\S+', stringy)\n",
    "\n",
    "# Try to guess. What will this print?\n",
    "print m.group()"
   ]
  },
  {
   "cell_type": "code",
   "execution_count": 39,
   "metadata": {
    "button": false,
    "collapsed": false,
    "deletable": true,
    "new_sheet": false,
    "run_control": {
     "read_only": false
    }
   },
   "outputs": [
    {
     "name": "stdout",
     "output_type": "stream",
     "text": [
      "div\n"
     ]
    }
   ],
   "source": [
    "# \\w: matches any alphanumeric character\n",
    "m = re.search('\\w+', stringy)\n",
    "\n",
    "# Try to guess. What will this print?\n",
    "print m.group()"
   ]
  },
  {
   "cell_type": "code",
   "execution_count": 40,
   "metadata": {
    "button": false,
    "collapsed": false,
    "deletable": true,
    "new_sheet": false,
    "run_control": {
     "read_only": false
    }
   },
   "outputs": [
    {
     "name": "stdout",
     "output_type": "stream",
     "text": [
      "<\n"
     ]
    }
   ],
   "source": [
    "# \\W: matches any non-alphanumeric character\n",
    "m = re.search('\\W+', stringy)\n",
    "\n",
    "# Try to guess. What will this print?\n",
    "print m.group()"
   ]
  },
  {
   "cell_type": "code",
   "execution_count": 41,
   "metadata": {
    "button": false,
    "collapsed": false,
    "deletable": true,
    "new_sheet": false,
    "run_control": {
     "read_only": false
    }
   },
   "outputs": [
    {
     "name": "stdout",
     "output_type": "stream",
     "text": [
      "['FakeFake ', 'Faketown ']\n"
     ]
    }
   ],
   "source": [
    "# Use findall to return all results\n",
    "m = re.findall('Fake\\w+\\s?', stringy)\n",
    "\n",
    "# Try to guess. What will this print?\n",
    "print m"
   ]
  },
  {
   "cell_type": "markdown",
   "metadata": {
    "button": false,
    "deletable": true,
    "new_sheet": false,
    "run_control": {
     "read_only": false
    }
   },
   "source": [
    "<img src=\"http://31.media.tumblr.com/b495222ee1e2df2b1a478c2d5a58df5f/tumblr_mlfep4fByu1rd6wt2o1_500.gif\" alt=\"Title\" style=\"width: 250px\"/>"
   ]
  },
  {
   "cell_type": "markdown",
   "metadata": {
    "button": false,
    "deletable": true,
    "new_sheet": false,
    "run_control": {
     "read_only": false
    }
   },
   "source": [
    "### You're gnarly bro! Let's generate some data! Run the next cell."
   ]
  },
  {
   "cell_type": "code",
   "execution_count": 81,
   "metadata": {
    "button": false,
    "collapsed": false,
    "deletable": true,
    "new_sheet": false,
    "run_control": {
     "read_only": false
    }
   },
   "outputs": [
    {
     "name": "stdout",
     "output_type": "stream",
     "text": [
      "superbly pudding ineradicable humpback platonic rehabilitate setback custody gesticulate budgetary nebula sundial metaphoric crockery superbly sizzle bedfast hewn perjure stagecoach mop vestibule rock loose coniferous anthem incubate closure asparagine flax dicta chicory foible volunteer downplay putative frivolous largesse heathen hawthorn maiden coherent shipmate charitable delegable squid dense corpulent trot nymphomania cerise cacophonist antennae gulp clank mimesis nugatory millet fisticuff divan tugging quint gallberry utilitarian since gangster excrement lulu snuggly allude haplology afraid firefly hightail indemnity vulnerable tent advocate autochthonous banquet sane franca atlantic ducat torsion accusatory spike dying opulent sax jaw menace default energy long pronounceable cistern veracity quintessential scurvy ringlet codon yeasty khaki bah homology progeny fabulous provocateur flout cygnet cognitive desegregate hydrofluoric prod cowherd menagerie plumb pennyroyal litmus further folksong carousel boulder circumvention motel erosion patrolmen exhibit forsaken pea upriver refrigerate hippy mike protect kestrel handgun continuity conifer plait spec bindery repeater inboard sentential parkland imprecate horoscope tsar pronoun decode hypotonic carnage nutritive photon holocaust butte carcinogenic bottommost bunt shed gasket upcome cook collar panel collateral gunplay plank mummify yodel canister teletypewrite platoon nuance mustang incriminate shatterproof megohm advisable inexpedient path populous participate sidestepping conjugate chairmen budge bongo dismal widget afforest benefit connoisseur petroleum fraught sulfurous germicidal egress morn o'clock conclusive reimburse lethal cookery ultra exigent ombudsman hop glycine shuck omega heartrending decipher committeewoman compellable lemonade datura padlock scull gelatin splash interrupt thermophilic abetting eyelet rhino hydrophobia covet countermen tee oleomargarine jocund patriarchy osteoporosis claim cardiac psychiatrist airtight swat wheelhouse citizen fulcrum ramp fisherman raccoon float brief wad grillwork blossom achieve hypothalamic rear excuse perfusion mount conjugate combustible antimony brave loft snare quasiparticle crystalline occidental doddering immersion inextinguishable meander blotch recipe sladang argument lotus knife metronome decorum lawman contend apologetic chevalier dear bellwether wrath malcontent hurley neptunium sensible toothache when saline since mile brook climactic stethoscope asleep dread dickey business roadway transform tuition azimuthal chaparral stamp parvenu minot vindicate won't taint pathogen refer regimentation lengthen lotion nothing corpulent connotative edgewise managerial symphonic biharmonic hind spindle synod sigma refer condition tony clash hydrant freeload nostril stone yodel ingenuous foster click streptomycin fop recalcitrant empire sou perimeter smote extricable committed bottommost diehard e stuck coarsen effusive industrious hurtle mirror downslope psychology haystack snowball mammalian pent nineteenth wetland nymphomaniac technology bloodbath conclusion interval shot hillside hough independent countdown commodity quench sorority b's auxiliary crave hedgehog mitre ark centrifugal defendant denotative brisk ponderous cache grandfather victor forthwith gunshot estimable dormouse killdeer compassion barter shallow boson homebuilding poultry slaughterhouse paucity fiddle irradiate transference lavish chargeable mum desecrate use dud expound blest peninsular egocentric usable hock bowman plead alleviate typesetting stepwise thoriate lunch northern insupportable bamboo downside transplantation mountaineer puffball drone expend me popular antiquity foundry risky euphoric pearlstone mutual fee singlehanded birefringent rehabilitate keyboard glycogen junior depict bat recital eviscerate copter ambiguity dichotomy passageway impious serum circumspect supply solace starlet timbre spread fractionate lurid sevenfold hunk sticktight spurt spectrophotometer uninominal seedling luminosity salt pigment fine sky churchmen diminution horehound hart necrosis kumquat begun coplanar heart fitful prestigious panhandle forbore advisee voltmeter plot miterwort\n"
     ]
    }
   ],
   "source": [
    "import requests\n",
    "import random\n",
    "import numpy as np\n",
    "\n",
    "word_site = \"http://svnweb.freebsd.org/csrg/share/dict/words?view=co&content-type=text/plain\"\n",
    "\n",
    "response = requests.get(word_site)\n",
    "WORDS = response.content.splitlines()\n",
    "not_proper = [word for word in WORDS if not word[0].isupper()]\n",
    "\n",
    "class formWords:\n",
    "    def __init__(self, not_proper):\n",
    "        self.not_proper = not_proper\n",
    "\n",
    "    def randomNonProper(self):\n",
    "        return self.not_proper[np.random.randint(0,len(self.not_proper))]\n",
    "        \n",
    "    def generateText(self, blog_length):\n",
    "        blog = []\n",
    "        for x in range(blog_length):\n",
    "            blog += [self.randomNonProper()]\n",
    "    \n",
    "        return \" \".join(blog)\n",
    "\n",
    "words = formWords(not_proper)\n",
    "\n",
    "#This is the data variable\n",
    "data = words.generateText(500)\n",
    "print data"
   ]
  },
  {
   "cell_type": "markdown",
   "metadata": {
    "button": false,
    "deletable": true,
    "new_sheet": false,
    "run_control": {
     "read_only": false
    }
   },
   "source": [
    "### Good golly! That sure is alot of data. Hopefully regular expressions can help us through this jam..."
   ]
  },
  {
   "cell_type": "code",
   "execution_count": 74,
   "metadata": {
    "button": false,
    "collapsed": false,
    "deletable": true,
    "new_sheet": false,
    "run_control": {
     "read_only": false
    }
   },
   "outputs": [
    {
     "data": {
      "text/plain": [
       "['plowman', 'alderman', 'humane']"
      ]
     },
     "execution_count": 74,
     "metadata": {},
     "output_type": "execute_result"
    }
   ],
   "source": [
    "# Find all the words with 'man' in them\n",
    "man = re.findall('\\w*man\\w*',data)\n",
    "man"
   ]
  },
  {
   "cell_type": "code",
   "execution_count": 106,
   "metadata": {
    "button": false,
    "collapsed": false,
    "deletable": true,
    "new_sheet": false,
    "run_control": {
     "read_only": false
    }
   },
   "outputs": [
    {
     "data": {
      "text/plain": [
       "['anthem',\n",
       " 'asparagine',\n",
       " 'antennae',\n",
       " 'allude',\n",
       " 'afraid',\n",
       " 'advocate',\n",
       " 'autochthonous',\n",
       " 'atlantic',\n",
       " 'accusatory',\n",
       " 'advisable',\n",
       " 'afforest',\n",
       " 'abetting',\n",
       " 'airtight',\n",
       " 'achieve',\n",
       " 'antimony',\n",
       " 'argument',\n",
       " 'apologetic',\n",
       " 'asleep',\n",
       " 'azimuthal',\n",
       " 'auxiliary',\n",
       " 'ark',\n",
       " 'alleviate',\n",
       " 'antiquity',\n",
       " 'ambiguity',\n",
       " 'advisee']"
      ]
     },
     "execution_count": 106,
     "metadata": {},
     "output_type": "execute_result"
    }
   ],
   "source": [
    "# Find all the words that begin with an 'a'\n",
    "a = re.findall('\\s(a\\w*)',data)\n",
    "a"
   ]
  },
  {
   "cell_type": "code",
   "execution_count": 113,
   "metadata": {
    "button": false,
    "collapsed": false,
    "deletable": true,
    "new_sheet": false,
    "run_control": {
     "read_only": false
    }
   },
   "outputs": [
    {
     "data": {
      "text/plain": [
       "['mop',\n",
       " 'rock',\n",
       " 'loose',\n",
       " 'coniferous',\n",
       " 'foible',\n",
       " 'volunteer',\n",
       " 'downplay',\n",
       " 'coherent',\n",
       " 'corpulent',\n",
       " 'torsion',\n",
       " 'long',\n",
       " 'codon',\n",
       " 'homology',\n",
       " 'cognitive',\n",
       " 'cowherd',\n",
       " 'folksong',\n",
       " 'boulder',\n",
       " 'motel',\n",
       " 'forsaken',\n",
       " 'continuity',\n",
       " 'conifer',\n",
       " 'horoscope',\n",
       " 'holocaust',\n",
       " 'bottommost',\n",
       " 'cook',\n",
       " 'collar',\n",
       " 'collateral',\n",
       " 'yodel',\n",
       " 'populous',\n",
       " 'conjugate',\n",
       " 'bongo',\n",
       " 'connoisseur',\n",
       " 'morn',\n",
       " 'conclusive',\n",
       " 'cookery',\n",
       " 'hop',\n",
       " 'committeewoman',\n",
       " 'compellable',\n",
       " 'covet',\n",
       " 'countermen',\n",
       " 'jocund',\n",
       " 'mount',\n",
       " 'conjugate',\n",
       " 'combustible',\n",
       " 'loft',\n",
       " 'doddering',\n",
       " 'lotus',\n",
       " 'contend',\n",
       " 'toothache',\n",
       " 'roadway',\n",
       " 'won',\n",
       " 'lotion',\n",
       " 'nothing',\n",
       " 'corpulent',\n",
       " 'connotative',\n",
       " 'condition',\n",
       " 'tony',\n",
       " 'nostril',\n",
       " 'yodel',\n",
       " 'foster',\n",
       " 'fop',\n",
       " 'sou',\n",
       " 'committed',\n",
       " 'bottommost',\n",
       " 'coarsen',\n",
       " 'downslope',\n",
       " 'conclusion',\n",
       " 'hough',\n",
       " 'countdown',\n",
       " 'commodity',\n",
       " 'sorority',\n",
       " 'ponderous',\n",
       " 'forthwith',\n",
       " 'dormouse',\n",
       " 'compassion',\n",
       " 'boson',\n",
       " 'homebuilding',\n",
       " 'poultry',\n",
       " 'hock',\n",
       " 'bowman',\n",
       " 'northern',\n",
       " 'downside',\n",
       " 'mountaineer',\n",
       " 'popular',\n",
       " 'foundry',\n",
       " 'copter',\n",
       " 'solace',\n",
       " 'horehound',\n",
       " 'coplanar',\n",
       " 'forbore',\n",
       " 'voltmeter']"
      ]
     },
     "execution_count": 113,
     "metadata": {},
     "output_type": "execute_result"
    }
   ],
   "source": [
    "# Find all the words with an 'o' as the second letter\n",
    "o = re.findall('\\s(\\wo\\w*)',data)\n",
    "o"
   ]
  },
  {
   "cell_type": "code",
   "execution_count": 120,
   "metadata": {
    "button": false,
    "collapsed": false,
    "deletable": true,
    "new_sheet": false,
    "run_control": {
     "read_only": false
    }
   },
   "outputs": [
    {
     "data": {
      "text/plain": [
       "['ineradicable',\n",
       " 'platonic',\n",
       " 'rehabilitate',\n",
       " 'gesticulate',\n",
       " 'budgetary',\n",
       " 'nebula',\n",
       " 'metaphoric',\n",
       " 'superbly',\n",
       " 'perjure',\n",
       " 'stagecoach',\n",
       " 'vestibule',\n",
       " 'loose',\n",
       " 'coniferous',\n",
       " 'incubate',\n",
       " 'closure',\n",
       " 'asparagine',\n",
       " 'chicory',\n",
       " 'volunteer',\n",
       " 'putative',\n",
       " 'frivolous',\n",
       " 'maiden',\n",
       " 'coherent',\n",
       " 'shipmate',\n",
       " 'charitable',\n",
       " 'delegable',\n",
       " 'corpulent',\n",
       " 'nymphomania',\n",
       " 'cerise',\n",
       " 'cacophonist',\n",
       " 'mimesis',\n",
       " 'nugatory',\n",
       " 'fisticuff',\n",
       " 'divan',\n",
       " 'utilitarian',\n",
       " 'excrement',\n",
       " 'lulu',\n",
       " 'allude',\n",
       " 'haplology',\n",
       " 'firefly',\n",
       " 'vulnerable',\n",
       " 'advocate',\n",
       " 'autochthonous',\n",
       " 'sane',\n",
       " 'ducat',\n",
       " 'accusatory',\n",
       " 'spike',\n",
       " 'opulent',\n",
       " 'menace',\n",
       " 'default',\n",
       " 'energy',\n",
       " 'pronounceable',\n",
       " 'veracity',\n",
       " 'codon',\n",
       " 'khaki',\n",
       " 'homology',\n",
       " 'progeny',\n",
       " 'fabulous',\n",
       " 'provocateur',\n",
       " 'cognitive',\n",
       " 'desegregate',\n",
       " 'hydrofluoric',\n",
       " 'menagerie',\n",
       " 'pennyroyal',\n",
       " 'carousel',\n",
       " 'motel',\n",
       " 'erosion',\n",
       " 'exhibit',\n",
       " 'forsaken',\n",
       " 'upriver',\n",
       " 'refrigerate',\n",
       " 'mike',\n",
       " 'protect',\n",
       " 'continuity',\n",
       " 'conifer',\n",
       " 'repeater',\n",
       " 'imprecate',\n",
       " 'horoscope',\n",
       " 'pronoun',\n",
       " 'decode',\n",
       " 'hypotonic',\n",
       " 'carnage',\n",
       " 'nutritive',\n",
       " 'photon',\n",
       " 'holocaust',\n",
       " 'carcinogenic',\n",
       " 'upcome',\n",
       " 'panel',\n",
       " 'collateral',\n",
       " 'yodel',\n",
       " 'canister',\n",
       " 'teletypewrite',\n",
       " 'platoon',\n",
       " 'incriminate',\n",
       " 'megohm',\n",
       " 'advisable',\n",
       " 'inexpedient',\n",
       " 'populous',\n",
       " 'participate',\n",
       " 'sidestepping',\n",
       " 'conjugate',\n",
       " 'afforest',\n",
       " 'benefit',\n",
       " 'petroleum',\n",
       " 'sulfurous',\n",
       " 'germicidal',\n",
       " 'conclusive',\n",
       " 'cookery',\n",
       " 'exigent',\n",
       " 'glycine',\n",
       " 'omega',\n",
       " 'decipher',\n",
       " 'committeewoman',\n",
       " 'lemonade',\n",
       " 'datura',\n",
       " 'gelatin',\n",
       " 'thermophilic',\n",
       " 'abetting',\n",
       " 'eyelet',\n",
       " 'rhino',\n",
       " 'hydrophobia',\n",
       " 'covet',\n",
       " 'oleomargarine',\n",
       " 'jocund',\n",
       " 'osteoporosis',\n",
       " 'wheelhouse',\n",
       " 'citizen',\n",
       " 'achieve',\n",
       " 'hypothalamic',\n",
       " 'excuse',\n",
       " 'perfusion',\n",
       " 'conjugate',\n",
       " 'antimony',\n",
       " 'brave',\n",
       " 'snare',\n",
       " 'quasiparticle',\n",
       " 'crystalline',\n",
       " 'occidental',\n",
       " 'doddering',\n",
       " 'inextinguishable',\n",
       " 'recipe',\n",
       " 'sladang',\n",
       " 'argument',\n",
       " 'lotus',\n",
       " 'knife',\n",
       " 'metronome',\n",
       " 'decorum',\n",
       " 'apologetic',\n",
       " 'chevalier',\n",
       " 'neptunium',\n",
       " 'saline',\n",
       " 'mile',\n",
       " 'climactic',\n",
       " 'stethoscope',\n",
       " 'business',\n",
       " 'tuition',\n",
       " 'azimuthal',\n",
       " 'chaparral',\n",
       " 'parvenu',\n",
       " 'minot',\n",
       " 'vindicate',\n",
       " 'pathogen',\n",
       " 'refer',\n",
       " 'regimentation',\n",
       " 'lotion',\n",
       " 'corpulent',\n",
       " 'connotative',\n",
       " 'edgewise',\n",
       " 'managerial',\n",
       " 'symphonic',\n",
       " 'biharmonic',\n",
       " 'refer',\n",
       " 'condition',\n",
       " 'freeload',\n",
       " 'stone',\n",
       " 'yodel',\n",
       " 'ingenuous',\n",
       " 'recalcitrant',\n",
       " 'empire',\n",
       " 'perimeter',\n",
       " 'smote',\n",
       " 'extricable',\n",
       " 'diehard',\n",
       " 'effusive',\n",
       " 'downslope',\n",
       " 'psychology',\n",
       " 'mammalian',\n",
       " 'nineteenth',\n",
       " 'nymphomaniac',\n",
       " 'technology',\n",
       " 'conclusion',\n",
       " 'hillside',\n",
       " 'independent',\n",
       " 'commodity',\n",
       " 'sorority',\n",
       " 'auxiliary',\n",
       " 'crave',\n",
       " 'hedgehog',\n",
       " 'centrifugal',\n",
       " 'defendant',\n",
       " 'denotative',\n",
       " 'ponderous',\n",
       " 'estimable',\n",
       " 'dormouse',\n",
       " 'boson',\n",
       " 'homebuilding',\n",
       " 'slaughterhouse',\n",
       " 'paucity',\n",
       " 'irradiate',\n",
       " 'transference',\n",
       " 'lavish',\n",
       " 'desecrate',\n",
       " 'use',\n",
       " 'peninsular',\n",
       " 'egocentric',\n",
       " 'usable',\n",
       " 'alleviate',\n",
       " 'typesetting',\n",
       " 'stepwise',\n",
       " 'thoriate',\n",
       " 'downside',\n",
       " 'transplantation',\n",
       " 'mountaineer',\n",
       " 'drone',\n",
       " 'popular',\n",
       " 'antiquity',\n",
       " 'euphoric',\n",
       " 'pearlstone',\n",
       " 'mutual',\n",
       " 'singlehanded',\n",
       " 'birefringent',\n",
       " 'rehabilitate',\n",
       " 'glycogen',\n",
       " 'junior',\n",
       " 'depict',\n",
       " 'recital',\n",
       " 'eviscerate',\n",
       " 'ambiguity',\n",
       " 'dichotomy',\n",
       " 'passageway',\n",
       " 'serum',\n",
       " 'solace',\n",
       " 'fractionate',\n",
       " 'lurid',\n",
       " 'sevenfold',\n",
       " 'spectrophotometer',\n",
       " 'uninominal',\n",
       " 'luminosity',\n",
       " 'fine',\n",
       " 'diminution',\n",
       " 'horehound',\n",
       " 'necrosis',\n",
       " 'begun',\n",
       " 'coplanar',\n",
       " 'prestigious',\n",
       " 'forbore',\n",
       " 'advisee',\n",
       " 'voltmeter',\n",
       " 'miterwort']"
      ]
     },
     "execution_count": 120,
     "metadata": {},
     "output_type": "execute_result"
    }
   ],
   "source": [
    "# Find all the words with vowels surrounding one consonant\n",
    "cons = re.findall('\\s(\\w*[aeiou][b-df-hj-np-tv-z][aeiou]\\w*)',data)\n",
    "cons"
   ]
  },
  {
   "cell_type": "code",
   "execution_count": 128,
   "metadata": {
    "button": false,
    "collapsed": false,
    "deletable": true,
    "new_sheet": false,
    "run_control": {
     "read_only": false
    }
   },
   "outputs": [],
   "source": [
    "# Find all the words with three consecutive consonants\n",
    "tree = re.findall('\\s(\\w*[b-df-hj-np-tv-z][b-df-hj-np-tv-z][b-df-hj-np-tv-z]\\w*)',data)\n",
    "#tree"
   ]
  },
  {
   "cell_type": "code",
   "execution_count": 133,
   "metadata": {
    "button": false,
    "collapsed": false,
    "deletable": true,
    "new_sheet": false,
    "run_control": {
     "read_only": false
    },
    "scrolled": true
   },
   "outputs": [
    {
     "data": {
      "text/plain": [
       "['ineradicable',\n",
       " 'incubate',\n",
       " 'asparagine',\n",
       " 'antennae',\n",
       " 'allude',\n",
       " 'advocate',\n",
       " 'imprecate',\n",
       " 'upcome',\n",
       " 'incriminate',\n",
       " 'advisable',\n",
       " 'ultra',\n",
       " 'omega',\n",
       " 'oleomargarine',\n",
       " 'achieve',\n",
       " 'excuse',\n",
       " 'inextinguishable',\n",
       " 'edgewise',\n",
       " 'empire',\n",
       " 'extricable',\n",
       " 'effusive',\n",
       " 'estimable',\n",
       " 'irradiate',\n",
       " 'use',\n",
       " 'usable',\n",
       " 'alleviate',\n",
       " 'insupportable',\n",
       " 'eviscerate',\n",
       " 'advisee']"
      ]
     },
     "execution_count": 133,
     "metadata": {},
     "output_type": "execute_result"
    }
   ],
   "source": [
    "# Find all the words that begin and end with a vowel\n",
    "vow = re.findall('\\s([aeiou]\\w*[aeiou])\\s',data)\n",
    "vow"
   ]
  },
  {
   "cell_type": "code",
   "execution_count": 148,
   "metadata": {
    "button": false,
    "collapsed": false,
    "deletable": true,
    "new_sheet": false,
    "run_control": {
     "read_only": false
    }
   },
   "outputs": [],
   "source": [
    "# Find two words such that the first begins with a consonant and the second begins with a vowel\n",
    "dos = re.findall('\\s+([b-df-hj-np-tv-z]\\w*\\s+[aeiou]\\w*)',data)"
   ]
  },
  {
   "cell_type": "code",
   "execution_count": 149,
   "metadata": {
    "button": false,
    "collapsed": false,
    "deletable": true,
    "new_sheet": false,
    "run_control": {
     "read_only": false
    }
   },
   "outputs": [
    {
     "data": {
      "text/plain": [
       "['pudding ineradicable',\n",
       " 'coniferous anthem',\n",
       " 'closure asparagine',\n",
       " 'cacophonist antennae',\n",
       " 'gallberry utilitarian',\n",
       " 'gangster excrement',\n",
       " 'snuggly allude',\n",
       " 'haplology afraid',\n",
       " 'hightail indemnity',\n",
       " 'tent advocate',\n",
       " 'franca atlantic',\n",
       " 'torsion accusatory',\n",
       " 'dying opulent',\n",
       " 'default energy',\n",
       " 'motel erosion',\n",
       " 'patrolmen exhibit',\n",
       " 'pea upriver',\n",
       " 'repeater inboard',\n",
       " 'parkland imprecate',\n",
       " 'gasket upcome',\n",
       " 'mustang incriminate',\n",
       " 'megohm advisable',\n",
       " 'widget afforest',\n",
       " 'germicidal egress',\n",
       " 'morn o',\n",
       " 'cookery ultra',\n",
       " 'shuck omega',\n",
       " 'splash interrupt',\n",
       " 'thermophilic abetting',\n",
       " 'tee oleomargarine',\n",
       " 'patriarchy osteoporosis',\n",
       " 'psychiatrist airtight',\n",
       " 'blossom achieve',\n",
       " 'rear excuse',\n",
       " 'combustible antimony',\n",
       " 'crystalline occidental',\n",
       " 'doddering immersion',\n",
       " 'sladang argument',\n",
       " 'contend apologetic',\n",
       " 'stethoscope asleep',\n",
       " 'tuition azimuthal',\n",
       " 'connotative edgewise',\n",
       " 'yodel ingenuous',\n",
       " 'recalcitrant empire',\n",
       " 'smote extricable',\n",
       " 'diehard e',\n",
       " 'coarsen effusive',\n",
       " 'conclusion interval',\n",
       " 'hough independent',\n",
       " 'mitre ark',\n",
       " 'gunshot estimable',\n",
       " 'fiddle irradiate',\n",
       " 'desecrate use',\n",
       " 'dud expound',\n",
       " 'peninsular egocentric',\n",
       " 'plead alleviate',\n",
       " 'northern insupportable',\n",
       " 'drone expend',\n",
       " 'popular antiquity',\n",
       " 'risky euphoric',\n",
       " 'recital eviscerate',\n",
       " 'copter ambiguity',\n",
       " 'passageway impious',\n",
       " 'spectrophotometer uninominal',\n",
       " 'forbore advisee']"
      ]
     },
     "execution_count": 149,
     "metadata": {},
     "output_type": "execute_result"
    }
   ],
   "source": [
    "dos"
   ]
  },
  {
   "cell_type": "code",
   "execution_count": null,
   "metadata": {
    "collapsed": true
   },
   "outputs": [],
   "source": []
  }
 ],
 "metadata": {
  "anaconda-cloud": {},
  "kernelspec": {
   "display_name": "Python [default]",
   "language": "python",
   "name": "python2"
  },
  "language_info": {
   "codemirror_mode": {
    "name": "ipython",
    "version": 2
   },
   "file_extension": ".py",
   "mimetype": "text/x-python",
   "name": "python",
   "nbconvert_exporter": "python",
   "pygments_lexer": "ipython2",
   "version": "2.7.12"
  }
 },
 "nbformat": 4,
 "nbformat_minor": 0
}
